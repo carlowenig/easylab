{
 "cells": [
  {
   "cell_type": "code",
   "execution_count": 2,
   "metadata": {},
   "outputs": [
    {
     "name": "stdout",
     "output_type": "stream",
     "text": [
      "Collecting typing-extensions\n",
      "  Downloading typing_extensions-4.4.0-py3-none-any.whl (26 kB)\n",
      "Installing collected packages: typing-extensions\n",
      "Successfully installed typing-extensions-4.4.0\n"
     ]
    }
   ],
   "source": [
    "import easylab_new2 as lab\n",
    "import numpy as np"
   ]
  },
  {
   "cell_type": "code",
   "execution_count": null,
   "metadata": {},
   "outputs": [],
   "source": [
    "x = lab.Var(\"x\", lab.decimal_var_type(2))\n",
    "y = lab.Var(\"y\", lab.decimal_var_type(2))\n",
    "z = lab.Var(\"z\", lab.decimal_var_type(2), metadata={\"source\": \"test\"})\n",
    "\n",
    "assert x.matches(x)\n",
    "assert x.matches(...)\n",
    "assert x.matches(\"*\")\n",
    "assert x.matches(\"x\")\n",
    "assert not x.matches(y)\n",
    "assert not x.matches(\"y\")\n",
    "\n",
    "assert x.sub(1).matches(x.sub(1)) # Match by label comparison\n",
    "assert x.sub(1).matches(\"x_1\")\n",
    "assert not x.sub(1).matches(x)\n",
    "assert not x.sub(1).matches(x.sub(2))\n",
    "\n",
    "assert x.matches(\"label: x\")\n",
    "assert x.matches(\"type: decimal(prec=2)\")\n",
    "\n",
    "assert z.matches(\"metadata: source: test\")\n",
    "assert not z.matches(\"metadata: source: notest\")"
   ]
  },
  {
   "cell_type": "code",
   "execution_count": null,
   "metadata": {},
   "outputs": [],
   "source": [
    "record = lab.Record({x: 1, y: 2, z.sub(1): 3, z.sub(2): 4, z.sub(3): 5})\n",
    "print(record)"
   ]
  },
  {
   "cell_type": "code",
   "execution_count": null,
   "metadata": {},
   "outputs": [],
   "source": [
    "# Mutate record\n",
    "record[x] = 2\n",
    "print(record)"
   ]
  },
  {
   "cell_type": "code",
   "execution_count": null,
   "metadata": {},
   "outputs": [],
   "source": [
    "assert not record.matches(x == 1)\n",
    "assert record.matches(x == 2)\n",
    "assert record.matches(z.sub(2) == 4)\n",
    "\n",
    "assert record.matches(x > 1)\n",
    "assert record.matches(x < 3)\n",
    "assert not record.matches(x > 2)\n",
    "\n",
    "# and\n",
    "assert record.matches((x == 2) & (y == 2))\n",
    "assert not record.matches((x == 2) & (y == 3))\n",
    "# or\n",
    "assert record.matches((x == 3) | (y == 2))\n",
    "# not\n",
    "assert record.matches(~(x == 3))\n",
    "\n",
    "\n",
    "# shorthands\n",
    "assert record.matches(x == y == 2)\n",
    "assert not record.matches(x == y == 3)\n",
    "assert record.matches(z.sub(1) < z.sub(2) < z.sub(3))\n",
    "assert not record.matches(z.sub(1) < z.sub(2) > z.sub(3))"
   ]
  },
  {
   "cell_type": "code",
   "execution_count": null,
   "metadata": {},
   "outputs": [],
   "source": [
    "# Copy record\n",
    "record2 = record.copy()\n",
    "record2[y] = \"42\"\n",
    "del record2[z.sub(2)]\n",
    "print(record2)\n",
    "\n",
    "assert record != record2\n",
    "\n",
    "# Check that the original record is unchanged by comparing the records\n",
    "print(record.compare(record2))"
   ]
  },
  {
   "cell_type": "code",
   "execution_count": null,
   "metadata": {},
   "outputs": [],
   "source": [
    "print(record & record2)"
   ]
  },
  {
   "cell_type": "code",
   "execution_count": null,
   "metadata": {},
   "outputs": [],
   "source": [
    "# Computed\n",
    "xy = lab.Computed(\"x * y\", [x, y])\n",
    "\n",
    "assert xy.type.value_type is float # Check type inference\n",
    "\n",
    "assert xy(4, 3) == 12\n",
    "assert xy.matches(xy)\n",
    "\n",
    "# Record with computed\n",
    "assert record[xy] == 4"
   ]
  },
  {
   "cell_type": "code",
   "execution_count": null,
   "metadata": {},
   "outputs": [],
   "source": [
    "data = lab.ListData([record, record2])\n",
    "print(data)"
   ]
  },
  {
   "cell_type": "code",
   "execution_count": null,
   "metadata": {},
   "outputs": [],
   "source": [
    "record = data.where(y == 42).extract(lab.Record)"
   ]
  },
  {
   "cell_type": "code",
   "execution_count": null,
   "metadata": {},
   "outputs": [],
   "source": [
    "# Totzeit example\n",
    "\n",
    "# infer all variables\n",
    "totzeit = lab.load_data(\"totzeit.csv\")\n",
    "print(totzeit)\n",
    "inferred_vars = totzeit.get_vars(\"metadata: source: inferred\")\n",
    "print(inferred_vars)"
   ]
  },
  {
   "cell_type": "code",
   "execution_count": null,
   "metadata": {},
   "outputs": [],
   "source": [
    "# infer some variables\n",
    "I = lab.Var(\"I\", float)\n",
    "totzeit = lab.load_data(\"totzeit.csv\", [I, \"infer\"])\n",
    "print(totzeit)"
   ]
  },
  {
   "cell_type": "code",
   "execution_count": null,
   "metadata": {},
   "outputs": [],
   "source": [
    "# infer no variables\n",
    "R = lab.Var(\"R\", float)\n",
    "totzeit = lab.load_data(\"totzeit.csv\", [I, R])\n",
    "print(totzeit)"
   ]
  },
  {
   "cell_type": "code",
   "execution_count": null,
   "metadata": {},
   "outputs": [],
   "source": [
    "U = lab.Computed(\"U\", [I, R], \"I * R\")\n",
    "totzeit.add(U)\n",
    "totzeit.plot(U, R)"
   ]
  },
  {
   "cell_type": "code",
   "execution_count": null,
   "metadata": {},
   "outputs": [],
   "source": [
    "totzeit.inspect()"
   ]
  },
  {
   "cell_type": "code",
   "execution_count": null,
   "metadata": {},
   "outputs": [],
   "source": []
  },
  {
   "cell_type": "markdown",
   "metadata": {},
   "source": [
    "# Physical values"
   ]
  },
  {
   "cell_type": "code",
   "execution_count": null,
   "metadata": {},
   "outputs": [],
   "source": [
    "\n",
    "\n",
    "x = lab.value(\"1.4(1) m\")\n",
    "print(x)\n",
    "t = lab.value(\"2.0(3)e-3s\")\n",
    "print(t)\n",
    "v = lab.value(\"x / t\", x=x, t=t)\n",
    "print(v)\n",
    "y = lab.value(\"cos(x)\", x=x)\n",
    "print(y)"
   ]
  },
  {
   "cell_type": "code",
   "execution_count": null,
   "metadata": {},
   "outputs": [],
   "source": []
  }
 ],
 "metadata": {
  "kernelspec": {
   "display_name": "Python 3 (ipykernel)",
   "language": "python",
   "name": "python3"
  },
  "language_info": {
   "codemirror_mode": {
    "name": "ipython",
    "version": 3
   },
   "file_extension": ".py",
   "mimetype": "text/x-python",
   "name": "python",
   "nbconvert_exporter": "python",
   "pygments_lexer": "ipython3",
   "version": "3.11.0"
  },
  "vscode": {
   "interpreter": {
    "hash": "55923a6ed19f62c923f4f9446379b87364bb44c28ea18797870eef05a25fc661"
   }
  }
 },
 "nbformat": 4,
 "nbformat_minor": 2
}
