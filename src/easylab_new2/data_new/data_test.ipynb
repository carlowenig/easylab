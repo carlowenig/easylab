{
 "cells": [
  {
   "cell_type": "code",
   "execution_count": 1,
   "metadata": {},
   "outputs": [],
   "source": [
    "from data import *"
   ]
  },
  {
   "cell_type": "code",
   "execution_count": 2,
   "metadata": {},
   "outputs": [
    {
     "name": "stdout",
     "output_type": "stream",
     "text": [
      "DataFrameData(\n",
      "       a  b   c\n",
      "    0  1  4  42\n",
      "    1  2  5   0\n",
      "    2  3  6   0\n",
      ")\n"
     ]
    }
   ],
   "source": [
    "\n",
    "foo = DataFrameData({\"a\": [1, 2, 3], \"b\": [4, 5, 6], \"c\": [42, 0, 0]})\n",
    "print(foo)\n"
   ]
  },
  {
   "cell_type": "code",
   "execution_count": 4,
   "metadata": {},
   "outputs": [
    {
     "name": "stdout",
     "output_type": "stream",
     "text": [
      "DataFrameData(\n",
      "       a  b\n",
      "    0  1  4\n",
      "    1  2  5\n",
      "    2  3  6\n",
      ")\n"
     ]
    }
   ],
   "source": [
    "print(foo.get(col__in=[\"a\", \"b\"]))"
   ]
  },
  {
   "cell_type": "code",
   "execution_count": null,
   "metadata": {},
   "outputs": [],
   "source": []
  }
 ],
 "metadata": {
  "kernelspec": {
   "display_name": "Python 3.11.0 64-bit",
   "language": "python",
   "name": "python3"
  },
  "language_info": {
   "codemirror_mode": {
    "name": "ipython",
    "version": 3
   },
   "file_extension": ".py",
   "mimetype": "text/x-python",
   "name": "python",
   "nbconvert_exporter": "python",
   "pygments_lexer": "ipython3",
   "version": "3.11.0 (main, Oct 24 2022, 18:26:48) [MSC v.1933 64 bit (AMD64)]"
  },
  "orig_nbformat": 4,
  "vscode": {
   "interpreter": {
    "hash": "60046ffbd83e2c3226aa688c07a90e0b2db2ccbc92f599df08db67c0404662c7"
   }
  }
 },
 "nbformat": 4,
 "nbformat_minor": 2
}
