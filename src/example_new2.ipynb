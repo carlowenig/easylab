{
 "cells": [
  {
   "cell_type": "code",
   "execution_count": 1,
   "metadata": {},
   "outputs": [],
   "source": [
    "import easylab_new2 as lab\n",
    "import numpy as np\n",
    "%matplotlib inline"
   ]
  },
  {
   "cell_type": "code",
   "execution_count": 2,
   "metadata": {},
   "outputs": [],
   "source": [
    "x = lab.Var(\"x\", lab.decimal_var_type(2))\n",
    "y = lab.Var(\"y\", lab.decimal_var_type(2))\n",
    "z = lab.Var(\"z\", lab.decimal_var_type(2), metadata={\"source\": \"test\"})\n",
    "\n",
    "assert x.matches(x)\n",
    "assert x.matches(...)\n",
    "assert x.matches(\"*\")\n",
    "assert x.matches(\"x\")\n",
    "assert not x.matches(y)\n",
    "assert not x.matches(\"y\")\n",
    "\n",
    "assert x.sub(1).matches(x.sub(1)) # Match by label comparison\n",
    "assert x.sub(1).matches(\"x_1\")\n",
    "assert not x.sub(1).matches(x)\n",
    "assert not x.sub(1).matches(x.sub(2))\n",
    "\n",
    "assert x.matches(\"label: x\")\n",
    "assert x.matches(\"type: decimal(prec=2)\")\n",
    "\n",
    "assert z.matches(\"metadata: source: test\")\n",
    "assert not z.matches(\"metadata: source: notest\")"
   ]
  },
  {
   "cell_type": "code",
   "execution_count": 3,
   "metadata": {},
   "outputs": [
    {
     "name": "stdout",
     "output_type": "stream",
     "text": [
      "{\n",
      "    x = 1.00,\n",
      "    y = 2.00,\n",
      "    z_1 = 3.00,\n",
      "    z_2 = 4.00,\n",
      "    z_3 = 5.00\n",
      "}\n"
     ]
    }
   ],
   "source": [
    "record = lab.Record({x: 1, y: 2, z.sub(1): 3, z.sub(2): 4, z.sub(3): 5})\n",
    "print(record)"
   ]
  },
  {
   "cell_type": "code",
   "execution_count": 4,
   "metadata": {},
   "outputs": [
    {
     "name": "stdout",
     "output_type": "stream",
     "text": [
      "{\n",
      "    x = 2.00,\n",
      "    y = 2.00,\n",
      "    z_1 = 3.00,\n",
      "    z_2 = 4.00,\n",
      "    z_3 = 5.00\n",
      "}\n"
     ]
    }
   ],
   "source": [
    "# Mutate record\n",
    "record[x] = 2\n",
    "print(record)"
   ]
  },
  {
   "cell_type": "code",
   "execution_count": 5,
   "metadata": {},
   "outputs": [],
   "source": [
    "assert not record.matches(x == 1)\n",
    "assert record.matches(x == 2)\n",
    "assert record.matches(z.sub(2) == 4)\n",
    "\n",
    "assert record.matches(x > 1)\n",
    "assert record.matches(x < 3)\n",
    "assert not record.matches(x > 2)\n",
    "\n",
    "# and\n",
    "assert record.matches((x == 2) & (y == 2))\n",
    "assert not record.matches((x == 2) & (y == 3))\n",
    "# or\n",
    "assert record.matches((x == 3) | (y == 2))\n",
    "# not\n",
    "assert record.matches(~(x == 3))\n",
    "\n",
    "\n",
    "# shorthands\n",
    "assert record.matches(x == y == 2)\n",
    "assert not record.matches(x == y == 3)\n",
    "assert record.matches(z.sub(1) < z.sub(2) < z.sub(3))\n",
    "assert not record.matches(z.sub(1) < z.sub(2) > z.sub(3))"
   ]
  },
  {
   "cell_type": "code",
   "execution_count": 6,
   "metadata": {},
   "outputs": [
    {
     "name": "stdout",
     "output_type": "stream",
     "text": [
      "{ x = 2.00, y = 42.00, z_1 = 3.00, z_3 = 5.00 }\n",
      "{ compare(y) = 2.00 ↔ 42.00, compare(z_2) = 4.00 ↔ }\n"
     ]
    }
   ],
   "source": [
    "# Copy record\n",
    "record2 = record.copy()\n",
    "record2[y] = \"42\"\n",
    "del record2[z.sub(2)]\n",
    "print(record2)\n",
    "\n",
    "assert record != record2\n",
    "\n",
    "# Check that the original record is unchanged by comparing the records\n",
    "print(record.compare(record2))"
   ]
  },
  {
   "cell_type": "code",
   "execution_count": 7,
   "metadata": {},
   "outputs": [
    {
     "name": "stdout",
     "output_type": "stream",
     "text": [
      "{ x = 2.00, y = 2.00, z_1 = 3.00, z_3 = 5.00 }\n"
     ]
    }
   ],
   "source": [
    "print(record & record2)"
   ]
  },
  {
   "cell_type": "code",
   "execution_count": 8,
   "metadata": {},
   "outputs": [],
   "source": [
    "# Computed\n",
    "xy = lab.Computed(\"xy\", [x, y], \"x * y\", float)\n",
    "\n",
    "assert xy.type.value_type is float # Check type inference\n",
    "\n",
    "assert xy(4, 3) == 12\n",
    "assert xy.matches(xy)\n",
    "\n",
    "# Record with computed\n",
    "assert record[xy] == 4"
   ]
  },
  {
   "cell_type": "code",
   "execution_count": 9,
   "metadata": {},
   "outputs": [
    {
     "name": "stdout",
     "output_type": "stream",
     "text": [
      "[ {\n",
      "    x = 2.00,\n",
      "    y = 2.00,\n",
      "    z_1 = 3.00,\n",
      "    z_2 = 4.00,\n",
      "    z_3 = 5.00\n",
      "}, { x = 2.00, y = 42.00, z_1 = 3.00, z_3 = 5.00 } ]\n"
     ]
    }
   ],
   "source": [
    "data = lab.ListData([record, record2])\n",
    "print(data)"
   ]
  },
  {
   "cell_type": "code",
   "execution_count": 10,
   "metadata": {},
   "outputs": [],
   "source": [
    "record = data.where(y == 42).extract(lab.Record)"
   ]
  },
  {
   "cell_type": "code",
   "execution_count": 11,
   "metadata": {},
   "outputs": [
    {
     "name": "stdout",
     "output_type": "stream",
     "text": [
      "[\n",
      "    { I [mA] = 0, R [Hz] = 2773 }\n",
      "    { I [mA] = 0, R [Hz] = 4105 }\n",
      "    { I [mA] = 0, R [Hz] = 5204 }\n",
      "    { I [mA] = 0, R [Hz] = 6292 }\n",
      "    { I [mA] = 0, R [Hz] = 7298 }\n",
      "    ...13 more records (18 total)\n",
      "]\n",
      "[Var(label=Text({'ascii': 'I [mA]', 'unicode': 'I [mA]', 'latex': ' $I [mA]$ '}), type=<easylab_new2.data.var_type.VarType object at 0x000002461585F0D0>, metadata=Metadata(created_at=datetime.datetime(2022, 11, 13, 5, 22, 8, 621789), created_by='carlo', updated_at=None, updated_by=None, source='inferred')), Var(label=Text({'ascii': 'R [Hz]', 'unicode': 'R [Hz]', 'latex': ' $R [Hz]$ '}), type=<easylab_new2.data.var_type.VarType object at 0x000002461585F4F0>, metadata=Metadata(created_at=datetime.datetime(2022, 11, 13, 5, 22, 8, 622785), created_by='carlo', updated_at=None, updated_by=None, source='inferred'))]\n"
     ]
    }
   ],
   "source": [
    "# Totzeit example\n",
    "\n",
    "# infer all variables\n",
    "totzeit = lab.load_data(\"totzeit.csv\")\n",
    "print(totzeit)\n",
    "inferred_vars = totzeit.get_vars(\"metadata: source: inferred\")\n",
    "print(inferred_vars)"
   ]
  },
  {
   "cell_type": "code",
   "execution_count": 12,
   "metadata": {},
   "outputs": [
    {
     "name": "stdout",
     "output_type": "stream",
     "text": [
      "[\n",
      "    { I = 0.01, R [Hz] = 2773 }\n",
      "    { I = 0.02, R [Hz] = 4105 }\n",
      "    { I = 0.03, R [Hz] = 5204 }\n",
      "    { I = 0.04, R [Hz] = 6292 }\n",
      "    { I = 0.05, R [Hz] = 7298 }\n",
      "    ...13 more records (18 total)\n",
      "]\n"
     ]
    }
   ],
   "source": [
    "# infer some variables\n",
    "I = lab.Var(\"I\", lab.PhysicalValue)\n",
    "totzeit = lab.load_data(\"totzeit.csv\", [I, \"infer\"])\n",
    "print(totzeit)"
   ]
  },
  {
   "cell_type": "code",
   "execution_count": 13,
   "metadata": {},
   "outputs": [
    {
     "name": "stdout",
     "output_type": "stream",
     "text": [
      "[\n",
      "    { I = 0.01, R = 2773.0 }\n",
      "    { I = 0.02, R = 4105.0 }\n",
      "    { I = 0.03, R = 5204.0 }\n",
      "    { I = 0.04, R = 6292.0 }\n",
      "    { I = 0.05, R = 7298.0 }\n",
      "    ...13 more records (18 total)\n",
      "]\n"
     ]
    }
   ],
   "source": [
    "# infer no variables\n",
    "R = lab.Var(\"R\", lab.PhysicalValue)\n",
    "totzeit = lab.load_data(\"totzeit.csv\", [I, R])\n",
    "print(totzeit)"
   ]
  },
  {
   "cell_type": "code",
   "execution_count": 14,
   "metadata": {},
   "outputs": [],
   "source": [
    "U = lab.Computed(\"U\", [I, R], \"I * R\", lab.PhysicalValue)\n",
    "totzeit.add(U)\n",
    "# totzeit.plot(U, R)"
   ]
  },
  {
   "cell_type": "code",
   "execution_count": 15,
   "metadata": {},
   "outputs": [
    {
     "data": {
      "application/vnd.jupyter.widget-view+json": {
       "model_id": "edff418c9b22454fb93d06c4d0176771",
       "version_major": 2,
       "version_minor": 0
      },
      "text/plain": [
       "VBox(children=(HBox(children=(Text(value='I', continuous_update=False, description='x'), Text(value='R', conti…"
      ]
     },
     "metadata": {},
     "output_type": "display_data"
    }
   ],
   "source": [
    "totzeit.inspect()"
   ]
  },
  {
   "cell_type": "code",
   "execution_count": null,
   "metadata": {},
   "outputs": [],
   "source": []
  },
  {
   "cell_type": "markdown",
   "metadata": {},
   "source": [
    "# Physical values"
   ]
  },
  {
   "cell_type": "code",
   "execution_count": 16,
   "metadata": {},
   "outputs": [
    {
     "name": "stdout",
     "output_type": "stream",
     "text": [
      "(1.4 +/- 0.1)m\n",
      "(0.0020 +/- 0.0004)s\n",
      "700 +/- 120\n",
      "0.170 +/- 0.099\n"
     ]
    }
   ],
   "source": [
    "\n",
    "\n",
    "x = lab.value(\"1.4(1) m\")\n",
    "print(x)\n",
    "t = lab.value(\"2.0(3)e-3s\")\n",
    "print(t)\n",
    "v = lab.value(\"x / t\", x=x, t=t)\n",
    "print(v)\n",
    "y = lab.value(\"cos(x)\", x=x)\n",
    "print(y)"
   ]
  },
  {
   "cell_type": "code",
   "execution_count": null,
   "metadata": {},
   "outputs": [],
   "source": []
  }
 ],
 "metadata": {
  "kernelspec": {
   "display_name": "Python 3 (ipykernel)",
   "language": "python",
   "name": "python3"
  },
  "language_info": {
   "codemirror_mode": {
    "name": "ipython",
    "version": 3
   },
   "file_extension": ".py",
   "mimetype": "text/x-python",
   "name": "python",
   "nbconvert_exporter": "python",
   "pygments_lexer": "ipython3",
   "version": "3.11.0"
  },
  "vscode": {
   "interpreter": {
    "hash": "55923a6ed19f62c923f4f9446379b87364bb44c28ea18797870eef05a25fc661"
   }
  }
 },
 "nbformat": 4,
 "nbformat_minor": 2
}
