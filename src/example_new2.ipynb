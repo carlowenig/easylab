{
 "cells": [
  {
   "cell_type": "code",
   "execution_count": null,
   "metadata": {},
   "outputs": [],
   "source": [
    "import easylab_new2 as lab\n",
    "import numpy as np\n",
    "%matplotlib inline"
   ]
  },
  {
   "cell_type": "code",
   "execution_count": null,
   "metadata": {},
   "outputs": [],
   "source": [
    "x = lab.Var(\"x\", lab.decimal_var_type(2))\n",
    "y = lab.Var(\"y\", lab.decimal_var_type(2))\n",
    "z = lab.Var(\"z\", lab.decimal_var_type(2), metadata={\"source\": \"test\"})\n",
    "\n",
    "assert x.matches(x)\n",
    "assert x.matches(...)\n",
    "assert x.matches(\"*\")\n",
    "assert x.matches(\"x\")\n",
    "assert not x.matches(y)\n",
    "assert not x.matches(\"y\")\n",
    "\n",
    "assert x.sub(1).matches(x.sub(1)) # Match by label comparison\n",
    "assert x.sub(1).matches(\"x_1\")\n",
    "assert not x.sub(1).matches(x)\n",
    "assert not x.sub(1).matches(x.sub(2))\n",
    "\n",
    "assert x.matches(\"label: x\")\n",
    "assert x.matches(\"type: decimal(prec=2)\")\n",
    "\n",
    "assert z.matches(\"metadata: source: test\")\n",
    "assert not z.matches(\"metadata: source: notest\")"
   ]
  },
  {
   "cell_type": "code",
   "execution_count": null,
   "metadata": {},
   "outputs": [],
   "source": [
    "record = lab.Record({x: 1, y: 2, z.sub(1): 3, z.sub(2): 4, z.sub(3): 5})\n",
    "print(record)"
   ]
  },
  {
   "cell_type": "code",
   "execution_count": null,
   "metadata": {},
   "outputs": [],
   "source": [
    "# Mutate record\n",
    "record[x] = 2\n",
    "print(record)"
   ]
  },
  {
   "cell_type": "code",
   "execution_count": null,
   "metadata": {},
   "outputs": [],
   "source": [
    "assert not record.matches(x.eq(1))\n",
    "assert record.matches(x.eq(2))\n",
    "assert record.matches(z.sub(2).eq(4))\n",
    "\n",
    "assert record.matches(x > 1)\n",
    "assert record.matches(x < 3)\n",
    "assert not record.matches(x > 2)\n",
    "\n",
    "# and\n",
    "assert record.matches(x.eq(2) & y.eq(2))\n",
    "assert not record.matches(x.eq(2) & y.eq(3))\n",
    "# or\n",
    "assert record.matches(x.eq(3) | y.eq(2))\n",
    "# not\n",
    "assert record.matches(~x.eq(3))"
   ]
  },
  {
   "cell_type": "code",
   "execution_count": null,
   "metadata": {},
   "outputs": [],
   "source": [
    "# Copy record\n",
    "record2 = record.copy()\n",
    "record2[y] = \"42\"\n",
    "del record2[z.sub(2)]\n",
    "print(record2)\n",
    "\n",
    "assert record != record2\n",
    "\n",
    "# Check that the original record is unchanged by comparing the records\n",
    "print(record.compare(record2))"
   ]
  },
  {
   "cell_type": "code",
   "execution_count": null,
   "metadata": {},
   "outputs": [],
   "source": [
    "print(record & record2)"
   ]
  },
  {
   "cell_type": "code",
   "execution_count": null,
   "metadata": {},
   "outputs": [],
   "source": [
    "# Computed\n",
    "xy = lab.Computed(\"xy\", x * y)\n",
    "\n",
    "print(xy.value_type)\n",
    "\n",
    "assert xy.type.value_type is float # Check type inference\n",
    "\n",
    "assert xy(4, 3) == 12\n",
    "assert xy.matches(xy)\n",
    "\n",
    "# Record with computed\n",
    "assert record[xy] == 4"
   ]
  },
  {
   "cell_type": "code",
   "execution_count": null,
   "metadata": {},
   "outputs": [],
   "source": [
    "data = lab.ListData([record, record2])\n",
    "print(data)"
   ]
  },
  {
   "cell_type": "code",
   "execution_count": null,
   "metadata": {},
   "outputs": [],
   "source": [
    "record = data.where(y.eq(42)).extract(lab.Record)"
   ]
  },
  {
   "cell_type": "code",
   "execution_count": null,
   "metadata": {},
   "outputs": [],
   "source": [
    "# Totzeit example\n",
    "\n",
    "# infer all variables\n",
    "totzeit = lab.load_data(\"totzeit.csv\")\n",
    "print(totzeit)\n",
    "inferred_vars = totzeit.get_vars(\"metadata: source: inferred\")\n",
    "print(inferred_vars)"
   ]
  },
  {
   "cell_type": "code",
   "execution_count": null,
   "metadata": {},
   "outputs": [],
   "source": [
    "# infer some variables\n",
    "I = lab.Var(\"I\", lab.PhysicalValue)\n",
    "totzeit = lab.load_data(\"totzeit.csv\", [I, \"infer\"])\n",
    "print(totzeit)"
   ]
  },
  {
   "cell_type": "code",
   "execution_count": null,
   "metadata": {},
   "outputs": [],
   "source": [
    "# infer no variables\n",
    "R = lab.Var(\"R\", lab.PhysicalValue)\n",
    "totzeit = lab.load_data(\"totzeit.csv\", [I, R])\n",
    "print(totzeit)"
   ]
  },
  {
   "cell_type": "code",
   "execution_count": null,
   "metadata": {},
   "outputs": [],
   "source": [
    "U = lab.Computed(\"U\", I * R)\n",
    "totzeit.add(U)\n",
    "# totzeit.plot(U, R)"
   ]
  },
  {
   "cell_type": "code",
   "execution_count": 23,
   "metadata": {},
   "outputs": [
    {
     "data": {
      "application/vnd.jupyter.widget-view+json": {
       "model_id": "3273265ec2874008a5140d70dd8b8da8",
       "version_major": 2,
       "version_minor": 0
      },
      "text/plain": [
       "VBox(children=(HBox(children=(Text(value='I', continuous_update=False, description='x'), Text(value='R', conti…"
      ]
     },
     "metadata": {},
     "output_type": "display_data"
    },
    {
     "ename": "TypeError",
     "evalue": "loop of ufunc does not support argument 0 of type SymbolicallyComputedValue which has no callable sqrt method",
     "output_type": "error",
     "traceback": [
      "\u001b[1;31m---------------------------------------------------------------------------\u001b[0m",
      "\u001b[1;31mAttributeError\u001b[0m                            Traceback (most recent call last)",
      "\u001b[1;31mAttributeError\u001b[0m: 'SymbolicallyComputedValue' object has no attribute 'sqrt'",
      "\nThe above exception was the direct cause of the following exception:\n",
      "\u001b[1;31mTypeError\u001b[0m                                 Traceback (most recent call last)",
      "File \u001b[1;32mc:\\Users\\carlo\\AppData\\Local\\Programs\\Python\\Python39\\lib\\site-packages\\ipywidgets\\widgets\\widget.py:676\u001b[0m, in \u001b[0;36mWidget._handle_msg\u001b[1;34m(self, msg)\u001b[0m\n\u001b[0;32m    674\u001b[0m         \u001b[39mif\u001b[39;00m \u001b[39m'\u001b[39m\u001b[39mbuffer_paths\u001b[39m\u001b[39m'\u001b[39m \u001b[39min\u001b[39;00m data:\n\u001b[0;32m    675\u001b[0m             _put_buffers(state, data[\u001b[39m'\u001b[39m\u001b[39mbuffer_paths\u001b[39m\u001b[39m'\u001b[39m], msg[\u001b[39m'\u001b[39m\u001b[39mbuffers\u001b[39m\u001b[39m'\u001b[39m])\n\u001b[1;32m--> 676\u001b[0m         \u001b[39mself\u001b[39;49m\u001b[39m.\u001b[39;49mset_state(state)\n\u001b[0;32m    678\u001b[0m \u001b[39m# Handle a state request.\u001b[39;00m\n\u001b[0;32m    679\u001b[0m \u001b[39melif\u001b[39;00m method \u001b[39m==\u001b[39m \u001b[39m'\u001b[39m\u001b[39mrequest_state\u001b[39m\u001b[39m'\u001b[39m:\n",
      "File \u001b[1;32mc:\\Users\\carlo\\AppData\\Local\\Programs\\Python\\Python39\\lib\\site-packages\\ipywidgets\\widgets\\widget.py:545\u001b[0m, in \u001b[0;36mWidget.set_state\u001b[1;34m(self, sync_data)\u001b[0m\n\u001b[0;32m    542\u001b[0m \u001b[39mif\u001b[39;00m name \u001b[39min\u001b[39;00m \u001b[39mself\u001b[39m\u001b[39m.\u001b[39mkeys:\n\u001b[0;32m    543\u001b[0m     from_json \u001b[39m=\u001b[39m \u001b[39mself\u001b[39m\u001b[39m.\u001b[39mtrait_metadata(name, \u001b[39m'\u001b[39m\u001b[39mfrom_json\u001b[39m\u001b[39m'\u001b[39m,\n\u001b[0;32m    544\u001b[0m                                     \u001b[39mself\u001b[39m\u001b[39m.\u001b[39m_trait_from_json)\n\u001b[1;32m--> 545\u001b[0m     \u001b[39mself\u001b[39m\u001b[39m.\u001b[39mset_trait(name, from_json(sync_data[name], \u001b[39mself\u001b[39m))\n",
      "File \u001b[1;32mc:\\Users\\carlo\\AppData\\Local\\Programs\\Python\\Python39\\lib\\contextlib.py:126\u001b[0m, in \u001b[0;36m_GeneratorContextManager.__exit__\u001b[1;34m(self, typ, value, traceback)\u001b[0m\n\u001b[0;32m    124\u001b[0m \u001b[39mif\u001b[39;00m typ \u001b[39mis\u001b[39;00m \u001b[39mNone\u001b[39;00m:\n\u001b[0;32m    125\u001b[0m     \u001b[39mtry\u001b[39;00m:\n\u001b[1;32m--> 126\u001b[0m         \u001b[39mnext\u001b[39;49m(\u001b[39mself\u001b[39;49m\u001b[39m.\u001b[39;49mgen)\n\u001b[0;32m    127\u001b[0m     \u001b[39mexcept\u001b[39;00m \u001b[39mStopIteration\u001b[39;00m:\n\u001b[0;32m    128\u001b[0m         \u001b[39mreturn\u001b[39;00m \u001b[39mFalse\u001b[39;00m\n",
      "File \u001b[1;32mc:\\Users\\carlo\\AppData\\Local\\Programs\\Python\\Python39\\lib\\site-packages\\traitlets\\traitlets.py:1371\u001b[0m, in \u001b[0;36mHasTraits.hold_trait_notifications\u001b[1;34m(self)\u001b[0m\n\u001b[0;32m   1369\u001b[0m \u001b[39mfor\u001b[39;00m changes \u001b[39min\u001b[39;00m cache\u001b[39m.\u001b[39mvalues():\n\u001b[0;32m   1370\u001b[0m     \u001b[39mfor\u001b[39;00m change \u001b[39min\u001b[39;00m changes:\n\u001b[1;32m-> 1371\u001b[0m         \u001b[39mself\u001b[39;49m\u001b[39m.\u001b[39;49mnotify_change(change)\n",
      "File \u001b[1;32mc:\\Users\\carlo\\AppData\\Local\\Programs\\Python\\Python39\\lib\\site-packages\\ipywidgets\\widgets\\widget.py:606\u001b[0m, in \u001b[0;36mWidget.notify_change\u001b[1;34m(self, change)\u001b[0m\n\u001b[0;32m    603\u001b[0m     \u001b[39mif\u001b[39;00m name \u001b[39min\u001b[39;00m \u001b[39mself\u001b[39m\u001b[39m.\u001b[39mkeys \u001b[39mand\u001b[39;00m \u001b[39mself\u001b[39m\u001b[39m.\u001b[39m_should_send_property(name, \u001b[39mgetattr\u001b[39m(\u001b[39mself\u001b[39m, name)):\n\u001b[0;32m    604\u001b[0m         \u001b[39m# Send new state to front-end\u001b[39;00m\n\u001b[0;32m    605\u001b[0m         \u001b[39mself\u001b[39m\u001b[39m.\u001b[39msend_state(key\u001b[39m=\u001b[39mname)\n\u001b[1;32m--> 606\u001b[0m \u001b[39msuper\u001b[39;49m(Widget, \u001b[39mself\u001b[39;49m)\u001b[39m.\u001b[39;49mnotify_change(change)\n",
      "File \u001b[1;32mc:\\Users\\carlo\\AppData\\Local\\Programs\\Python\\Python39\\lib\\site-packages\\traitlets\\traitlets.py:1386\u001b[0m, in \u001b[0;36mHasTraits.notify_change\u001b[1;34m(self, change)\u001b[0m\n\u001b[0;32m   1384\u001b[0m \u001b[39mdef\u001b[39;00m \u001b[39mnotify_change\u001b[39m(\u001b[39mself\u001b[39m, change):\n\u001b[0;32m   1385\u001b[0m     \u001b[39m\"\"\"Notify observers of a change event\"\"\"\u001b[39;00m\n\u001b[1;32m-> 1386\u001b[0m     \u001b[39mreturn\u001b[39;00m \u001b[39mself\u001b[39;49m\u001b[39m.\u001b[39;49m_notify_observers(change)\n",
      "File \u001b[1;32mc:\\Users\\carlo\\AppData\\Local\\Programs\\Python\\Python39\\lib\\site-packages\\traitlets\\traitlets.py:1431\u001b[0m, in \u001b[0;36mHasTraits._notify_observers\u001b[1;34m(self, event)\u001b[0m\n\u001b[0;32m   1428\u001b[0m \u001b[39melif\u001b[39;00m \u001b[39misinstance\u001b[39m(c, EventHandler) \u001b[39mand\u001b[39;00m c\u001b[39m.\u001b[39mname \u001b[39mis\u001b[39;00m \u001b[39mnot\u001b[39;00m \u001b[39mNone\u001b[39;00m:\n\u001b[0;32m   1429\u001b[0m     c \u001b[39m=\u001b[39m \u001b[39mgetattr\u001b[39m(\u001b[39mself\u001b[39m, c\u001b[39m.\u001b[39mname)\n\u001b[1;32m-> 1431\u001b[0m c(event)\n",
      "File \u001b[1;32mc:\\Users\\carlo\\Development\\Projects\\_src\\easylab\\src\\easylab_new2\\data\\data.py:532\u001b[0m, in \u001b[0;36mData.inspect.<locals>.<lambda>\u001b[1;34m(change)\u001b[0m\n\u001b[0;32m    529\u001b[0m update(\u001b[39mvars\u001b[39m[\u001b[39m0\u001b[39m]\u001b[39m.\u001b[39mlabel\u001b[39m.\u001b[39mascii, \u001b[39mvars\u001b[39m[\u001b[39m1\u001b[39m]\u001b[39m.\u001b[39mlabel\u001b[39m.\u001b[39mascii)\n\u001b[0;32m    531\u001b[0m x_input\u001b[39m.\u001b[39mobserve(\u001b[39mlambda\u001b[39;00m change: update(change\u001b[39m.\u001b[39mnew, y_input\u001b[39m.\u001b[39mvalue), \u001b[39m\"\u001b[39m\u001b[39mvalue\u001b[39m\u001b[39m\"\u001b[39m)  \u001b[39m# type: ignore\u001b[39;00m\n\u001b[1;32m--> 532\u001b[0m y_input\u001b[39m.\u001b[39mobserve(\u001b[39mlambda\u001b[39;00m change: update(x_input\u001b[39m.\u001b[39;49mvalue, change\u001b[39m.\u001b[39;49mnew), \u001b[39m\"\u001b[39m\u001b[39mvalue\u001b[39m\u001b[39m\"\u001b[39m)  \u001b[39m# type: ignore\u001b[39;00m\n\u001b[0;32m    534\u001b[0m controls \u001b[39m=\u001b[39m widgets\u001b[39m.\u001b[39mHBox([x_input, y_input])\n\u001b[0;32m    536\u001b[0m \u001b[39mreturn\u001b[39;00m widgets\u001b[39m.\u001b[39mVBox([controls, widgets\u001b[39m.\u001b[39mHBox([plot_output, table_output])])\n",
      "File \u001b[1;32mc:\\Users\\carlo\\Development\\Projects\\_src\\easylab\\src\\easylab_new2\\data\\data.py:501\u001b[0m, in \u001b[0;36mData.inspect.<locals>.update\u001b[1;34m(x_str, y_str)\u001b[0m\n\u001b[0;32m    497\u001b[0m     show_exception(e)\n\u001b[0;32m    498\u001b[0m     \u001b[39mreturn\u001b[39;00m\n\u001b[0;32m    500\u001b[0m plot_data \u001b[39m=\u001b[39m ListData(\n\u001b[1;32m--> 501\u001b[0m     [\n\u001b[0;32m    502\u001b[0m         {x: x_value, y: y_value}\n\u001b[0;32m    503\u001b[0m         \u001b[39mfor\u001b[39;00m x_value, y_value \u001b[39min\u001b[39;00m \u001b[39mzip\u001b[39m(\u001b[39mself\u001b[39m\u001b[39m.\u001b[39mget_values(x), \u001b[39mself\u001b[39m\u001b[39m.\u001b[39mget_values(y))\n\u001b[0;32m    504\u001b[0m     ]\n\u001b[0;32m    505\u001b[0m )\n\u001b[0;32m    507\u001b[0m \u001b[39m# table_data = self.copy()\u001b[39;00m\n\u001b[0;32m    508\u001b[0m \u001b[39m# table_data.add(x)\u001b[39;00m\n\u001b[0;32m    509\u001b[0m \u001b[39m# table_data.add(y)\u001b[39;00m\n\u001b[0;32m    511\u001b[0m \u001b[39mwith\u001b[39;00m plot_output:\n",
      "File \u001b[1;32mc:\\Users\\carlo\\Development\\Projects\\_src\\easylab\\src\\easylab_new2\\data\\data.py:501\u001b[0m, in \u001b[0;36m<listcomp>\u001b[1;34m(.0)\u001b[0m\n\u001b[0;32m    497\u001b[0m     show_exception(e)\n\u001b[0;32m    498\u001b[0m     \u001b[39mreturn\u001b[39;00m\n\u001b[0;32m    500\u001b[0m plot_data \u001b[39m=\u001b[39m ListData(\n\u001b[1;32m--> 501\u001b[0m     [\n\u001b[0;32m    502\u001b[0m         {x: x_value, y: y_value}\n\u001b[0;32m    503\u001b[0m         \u001b[39mfor\u001b[39;00m x_value, y_value \u001b[39min\u001b[39;00m \u001b[39mzip\u001b[39m(\u001b[39mself\u001b[39m\u001b[39m.\u001b[39mget_values(x), \u001b[39mself\u001b[39m\u001b[39m.\u001b[39mget_values(y))\n\u001b[0;32m    504\u001b[0m     ]\n\u001b[0;32m    505\u001b[0m )\n\u001b[0;32m    507\u001b[0m \u001b[39m# table_data = self.copy()\u001b[39;00m\n\u001b[0;32m    508\u001b[0m \u001b[39m# table_data.add(x)\u001b[39;00m\n\u001b[0;32m    509\u001b[0m \u001b[39m# table_data.add(y)\u001b[39;00m\n\u001b[0;32m    511\u001b[0m \u001b[39mwith\u001b[39;00m plot_output:\n",
      "File \u001b[1;32mc:\\Users\\carlo\\Development\\Projects\\_src\\easylab\\src\\easylab_new2\\data\\data.py:254\u001b[0m, in \u001b[0;36mData.get_values\u001b[1;34m(self, query)\u001b[0m\n\u001b[0;32m    253\u001b[0m \u001b[39mdef\u001b[39;00m \u001b[39mget_values\u001b[39m(\u001b[39mself\u001b[39m, query: RecordEntryQuery[S]) \u001b[39m-\u001b[39m\u001b[39m>\u001b[39m Iterable[S]:\n\u001b[1;32m--> 254\u001b[0m     \u001b[39mfor\u001b[39;00m entry \u001b[39min\u001b[39;00m \u001b[39mself\u001b[39m\u001b[39m.\u001b[39mget_entries(query):\n\u001b[0;32m    255\u001b[0m         \u001b[39myield\u001b[39;00m entry\u001b[39m.\u001b[39mvalue\n",
      "File \u001b[1;32mc:\\Users\\carlo\\Development\\Projects\\_src\\easylab\\src\\easylab_new2\\data\\data.py:249\u001b[0m, in \u001b[0;36mData.get_entries\u001b[1;34m(self, query)\u001b[0m\n\u001b[0;32m    247\u001b[0m \u001b[39mdef\u001b[39;00m \u001b[39mget_entries\u001b[39m(\u001b[39mself\u001b[39m, query: RecordEntryQuery[S]) \u001b[39m-\u001b[39m\u001b[39m>\u001b[39m Iterable[RecordEntry[S]]:\n\u001b[0;32m    248\u001b[0m     \u001b[39mfor\u001b[39;00m record \u001b[39min\u001b[39;00m \u001b[39mself\u001b[39m\u001b[39m.\u001b[39mget_records():\n\u001b[1;32m--> 249\u001b[0m         entry \u001b[39m=\u001b[39m record\u001b[39m.\u001b[39;49mget_entry_or_none(query)\n\u001b[0;32m    250\u001b[0m         \u001b[39mif\u001b[39;00m entry \u001b[39mis\u001b[39;00m \u001b[39mnot\u001b[39;00m \u001b[39mNone\u001b[39;00m:\n\u001b[0;32m    251\u001b[0m             \u001b[39myield\u001b[39;00m entry\n",
      "File \u001b[1;32mc:\\Users\\carlo\\Development\\Projects\\_src\\easylab\\src\\easylab_new2\\data\\record.py:402\u001b[0m, in \u001b[0;36mRecord.get_entry_or_none\u001b[1;34m(self, query)\u001b[0m\n\u001b[0;32m    398\u001b[0m         \u001b[39mreturn\u001b[39;00m cast(RecordEntry[S], entry)\n\u001b[0;32m    400\u001b[0m \u001b[39mif\u001b[39;00m \u001b[39misinstance\u001b[39m(query, DerivedVar):\n\u001b[0;32m    401\u001b[0m     \u001b[39mreturn\u001b[39;00m RecordEntry(\n\u001b[1;32m--> 402\u001b[0m         query, query\u001b[39m.\u001b[39;49mget_value(\u001b[39mself\u001b[39;49m), metadata\u001b[39m=\u001b[39m{\u001b[39m\"\u001b[39m\u001b[39msource\u001b[39m\u001b[39m\"\u001b[39m: \u001b[39m\"\u001b[39m\u001b[39mderived\u001b[39m\u001b[39m\"\u001b[39m}\n\u001b[0;32m    403\u001b[0m     )\n",
      "File \u001b[1;32mc:\\Users\\carlo\\Development\\Projects\\_src\\easylab\\src\\easylab_new2\\data\\var.py:671\u001b[0m, in \u001b[0;36mComputed.get_value\u001b[1;34m(self, record)\u001b[0m\n\u001b[0;32m    669\u001b[0m args \u001b[39m=\u001b[39m [record[var] \u001b[39mfor\u001b[39;00m var \u001b[39min\u001b[39;00m \u001b[39mself\u001b[39m\u001b[39m.\u001b[39m_expr\u001b[39m.\u001b[39msymbols]\n\u001b[0;32m    670\u001b[0m \u001b[39m# print(\"-> args:\", args)\u001b[39;00m\n\u001b[1;32m--> 671\u001b[0m \u001b[39mreturn\u001b[39;00m \u001b[39mself\u001b[39;49m\u001b[39m.\u001b[39;49m_compute_for_args(\u001b[39m*\u001b[39;49margs)\n",
      "File \u001b[1;32mc:\\Users\\carlo\\Development\\Projects\\_src\\easylab\\src\\easylab_new2\\data\\var.py:660\u001b[0m, in \u001b[0;36mComputed._compute_for_args\u001b[1;34m(self, *args)\u001b[0m\n\u001b[0;32m    659\u001b[0m \u001b[39mdef\u001b[39;00m \u001b[39m_compute_for_args\u001b[39m(\u001b[39mself\u001b[39m, \u001b[39m*\u001b[39margs) \u001b[39m-\u001b[39m\u001b[39m>\u001b[39m T:\n\u001b[1;32m--> 660\u001b[0m     result \u001b[39m=\u001b[39m \u001b[39mself\u001b[39;49m\u001b[39m.\u001b[39;49m_expr\u001b[39m.\u001b[39;49mevaluate(\n\u001b[0;32m    661\u001b[0m         \u001b[39m*\u001b[39;49margs, check_type\u001b[39m=\u001b[39;49m\u001b[39mFalse\u001b[39;49;00m\n\u001b[0;32m    662\u001b[0m     )  \u001b[39m# Type checking is done by parse function\u001b[39;00m\n\u001b[0;32m    663\u001b[0m     \u001b[39mreturn\u001b[39;00m \u001b[39mself\u001b[39m\u001b[39m.\u001b[39mparse(result)\n",
      "File \u001b[1;32mc:\\Users\\carlo\\Development\\Projects\\_src\\easylab\\src\\easylab_new2\\expr\\expr.py:114\u001b[0m, in \u001b[0;36mExpr.evaluate\u001b[1;34m(self, check_type, *args)\u001b[0m\n\u001b[0;32m    112\u001b[0m \u001b[39mdef\u001b[39;00m \u001b[39mevaluate\u001b[39m(\u001b[39mself\u001b[39m, \u001b[39m*\u001b[39margs, check_type: \u001b[39mbool\u001b[39m \u001b[39m=\u001b[39m \u001b[39mTrue\u001b[39;00m) \u001b[39m-\u001b[39m\u001b[39m>\u001b[39m V:\n\u001b[0;32m    113\u001b[0m     evaluator \u001b[39m=\u001b[39m \u001b[39mself\u001b[39m\u001b[39m.\u001b[39m_create_evaluator()\n\u001b[1;32m--> 114\u001b[0m     result \u001b[39m=\u001b[39m evaluator(\u001b[39m*\u001b[39;49margs)\n\u001b[0;32m    116\u001b[0m     \u001b[39mif\u001b[39;00m \u001b[39misinstance\u001b[39m(result, sympy\u001b[39m.\u001b[39mExpr) \u001b[39mand\u001b[39;00m \u001b[39mnot\u001b[39;00m \u001b[39missubclass\u001b[39m(\n\u001b[0;32m    117\u001b[0m         \u001b[39mself\u001b[39m\u001b[39m.\u001b[39mvalue_type, sympy\u001b[39m.\u001b[39mExpr\n\u001b[0;32m    118\u001b[0m     ):\n\u001b[0;32m    119\u001b[0m         args_dict \u001b[39m=\u001b[39m {symbol\u001b[39m.\u001b[39mname: arg \u001b[39mfor\u001b[39;00m symbol, arg \u001b[39min\u001b[39;00m \u001b[39mzip\u001b[39m(\u001b[39mself\u001b[39m\u001b[39m.\u001b[39msymbols, args)}\n",
      "File \u001b[1;32m<lambdifygenerated-34>:2\u001b[0m, in \u001b[0;36m_lambdifygenerated\u001b[1;34m(labsymbol_25, labsymbol_27, labsymbol_28)\u001b[0m\n\u001b[0;32m      1\u001b[0m \u001b[39mdef\u001b[39;00m \u001b[39m_lambdifygenerated\u001b[39m(labsymbol_25, labsymbol_27, labsymbol_28):\n\u001b[1;32m----> 2\u001b[0m     \u001b[39mreturn\u001b[39;00m (sqrt(labsymbol_27 \u001b[39m-\u001b[39;49m \u001b[39m3000\u001b[39;49m))\n",
      "\u001b[1;31mTypeError\u001b[0m: loop of ufunc does not support argument 0 of type SymbolicallyComputedValue which has no callable sqrt method"
     ]
    }
   ],
   "source": [
    "totzeit.inspect()"
   ]
  },
  {
   "cell_type": "code",
   "execution_count": null,
   "metadata": {},
   "outputs": [],
   "source": [
    "totzeit.plot_all();"
   ]
  },
  {
   "cell_type": "markdown",
   "metadata": {},
   "source": [
    "# Physical values"
   ]
  },
  {
   "cell_type": "code",
   "execution_count": null,
   "metadata": {},
   "outputs": [],
   "source": [
    "x = lab.value(\"1.4(1) m\")\n",
    "print(x)\n",
    "t = lab.value(\"2.0(3)e-3s\")\n",
    "print(t)\n",
    "v = lab.value(\"x / t\", x=x, t=t)\n",
    "print(v)\n",
    "y = lab.value(\"cos(x)\", x=x)\n",
    "print(y)"
   ]
  },
  {
   "cell_type": "markdown",
   "metadata": {},
   "source": [
    "# Problem: Long parameter list\n",
    "Example without this module:"
   ]
  },
  {
   "cell_type": "code",
   "execution_count": null,
   "metadata": {},
   "outputs": [],
   "source": [
    "def H(x, p, m, omega, hbar):\n",
    "    return p**2 / (2 * m) + m * omega**2 * x**2 / 2\n",
    "\n",
    "def H_diff(x0, p0, x1, p1, m, omega, hbar):\n",
    "    return H(x1, p1, m, omega, hbar) - H(x0, p0, m, omega, hbar)\n",
    "\n",
    "def calc_H_diff():\n",
    "    m = 1\n",
    "    omega = 42\n",
    "    hbar = 1\n",
    "    return H_diff(0, 0, 1, 1, m, omega, hbar)\n",
    "\n",
    "print(calc_H_diff())"
   ]
  },
  {
   "cell_type": "markdown",
   "metadata": {},
   "source": [
    "With this module:"
   ]
  },
  {
   "cell_type": "code",
   "execution_count": null,
   "metadata": {},
   "outputs": [],
   "source": [
    "x, p, m, omega, hbar = lab.vars(\"x p m omega hbar\", (float, 1))\n",
    "\n",
    "H = lab.Computed(\"H\", p ** 2 / (2 * m) + m * omega ** 2 * x ** 2 / 2)\n",
    "\n",
    "data = lab.ListData([\n",
    "    {m: 1, omega: 42, hbar: 1},\n",
    "]).child([\n",
    "    {x: 0, p: 0},\n",
    "    {x: 1, p: 1},\n",
    "])\n",
    "\n",
    "H_diff = lab.FunctionComputed(\"H_diff\", lambda record: record[H], float)\n",
    "\n",
    "print(H_diff.get_dependencies())\n",
    "\n",
    "print(H_diff(data.to_record()))\n",
    "\n"
   ]
  },
  {
   "cell_type": "code",
   "execution_count": null,
   "metadata": {},
   "outputs": [],
   "source": []
  }
 ],
 "metadata": {
  "kernelspec": {
   "display_name": "Python 3",
   "language": "python",
   "name": "python3"
  },
  "language_info": {
   "codemirror_mode": {
    "name": "ipython",
    "version": 3
   },
   "file_extension": ".py",
   "mimetype": "text/x-python",
   "name": "python",
   "nbconvert_exporter": "python",
   "pygments_lexer": "ipython3",
   "version": "3.9.7"
  },
  "vscode": {
   "interpreter": {
    "hash": "55923a6ed19f62c923f4f9446379b87364bb44c28ea18797870eef05a25fc661"
   }
  }
 },
 "nbformat": 4,
 "nbformat_minor": 2
}
