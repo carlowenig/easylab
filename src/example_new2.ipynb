{
 "cells": [
  {
   "cell_type": "code",
   "execution_count": 1,
   "metadata": {},
   "outputs": [],
   "source": [
    "import easylab_new2 as lab"
   ]
  },
  {
   "cell_type": "code",
   "execution_count": 2,
   "metadata": {},
   "outputs": [],
   "source": [
    "x = lab.Var(\"x\", lab.decimal_var_type(2))\n",
    "y = lab.Var(\"y\", lab.decimal_var_type(2))\n",
    "z = lab.Var(\"z\", lab.decimal_var_type(2))\n",
    "\n",
    "assert x.matches(x)\n",
    "assert x.matches(...)\n",
    "assert x.matches(\"*\")\n",
    "assert x.matches(\"x\")\n",
    "assert not x.matches(y)\n",
    "assert not x.matches(\"y\")\n",
    "\n",
    "assert x.sub(1).matches(x.sub(1)) # Match by label comparison\n",
    "assert x.sub(1).matches(\"x_1\")\n",
    "assert not x.sub(1).matches(x)\n",
    "assert not x.sub(1).matches(x.sub(2))"
   ]
  },
  {
   "cell_type": "code",
   "execution_count": 3,
   "metadata": {},
   "outputs": [
    {
     "name": "stdout",
     "output_type": "stream",
     "text": [
      "{\n",
      "    x = 1.00,\n",
      "    y = 2.00,\n",
      "    z_1 = 3.00,\n",
      "    z_2 = 4.00,\n",
      "    z_3 = 5.00\n",
      "}\n"
     ]
    }
   ],
   "source": [
    "record = lab.Record({x: 1, y: 2, z.sub(1): 3, z.sub(2): 4, z.sub(3): 5})\n",
    "print(record)"
   ]
  },
  {
   "cell_type": "code",
   "execution_count": 4,
   "metadata": {},
   "outputs": [
    {
     "name": "stdout",
     "output_type": "stream",
     "text": [
      "{\n",
      "    x = 2.00,\n",
      "    y = 2.00,\n",
      "    z_1 = 3.00,\n",
      "    z_2 = 4.00,\n",
      "    z_3 = 5.00\n",
      "}\n"
     ]
    }
   ],
   "source": [
    "# Mutate record\n",
    "record[x] = 2\n",
    "print(record)"
   ]
  },
  {
   "cell_type": "code",
   "execution_count": 5,
   "metadata": {},
   "outputs": [],
   "source": [
    "assert not record.matches(x == 1)\n",
    "assert record.matches(x == 2)\n",
    "assert record.matches(z.sub(2) == 4)\n",
    "\n",
    "assert record.matches(x > 1)\n",
    "assert record.matches(x < 3)\n",
    "assert not record.matches(x > 2)\n",
    "\n",
    "# and\n",
    "assert record.matches((x == 2) & (y == 2))\n",
    "assert not record.matches((x == 2) & (y == 3))\n",
    "# or\n",
    "assert record.matches((x == 3) | (y == 2))\n",
    "# not\n",
    "assert record.matches(~(x == 3))\n",
    "\n",
    "\n",
    "# shorthands\n",
    "assert record.matches(x == y == 2)\n",
    "assert not record.matches(x == y == 3)\n",
    "assert record.matches(z.sub(1) < z.sub(2) < z.sub(3))\n",
    "assert not record.matches(z.sub(1) < z.sub(2) > z.sub(3))"
   ]
  },
  {
   "cell_type": "code",
   "execution_count": 6,
   "metadata": {},
   "outputs": [
    {
     "name": "stdout",
     "output_type": "stream",
     "text": [
      "{ x = 2.00, y = 42.00, z_1 = 3.00, z_3 = 5.00 }\n",
      "{ compare(y) = 2.00 ↔ 42.00, compare(z_2) = 4.00 ↔ }\n"
     ]
    }
   ],
   "source": [
    "# Copy record\n",
    "record2 = record.copy()\n",
    "record2[y] = \"42\"\n",
    "del record2[z.sub(2)]\n",
    "print(record2)\n",
    "\n",
    "assert record != record2\n",
    "\n",
    "# Check that the original record is unchanged by comparing the records\n",
    "print(record.compare(record2))"
   ]
  },
  {
   "cell_type": "code",
   "execution_count": 7,
   "metadata": {},
   "outputs": [
    {
     "name": "stdout",
     "output_type": "stream",
     "text": [
      "{ x = 2.00, y = 2.00, z_1 = 3.00, z_3 = 5.00 }\n"
     ]
    }
   ],
   "source": [
    "print(record & record2)"
   ]
  },
  {
   "cell_type": "code",
   "execution_count": 8,
   "metadata": {},
   "outputs": [],
   "source": [
    "# Computed\n",
    "xy = lab.Computed(\"x * y\", [x, y])\n",
    "\n",
    "assert xy.type.value_type is float # Check type inference\n",
    "\n",
    "assert xy(4, 3) == 12\n",
    "assert xy.matches(xy)\n",
    "\n",
    "# Record with computed\n",
    "assert record[xy] == 4"
   ]
  },
  {
   "cell_type": "code",
   "execution_count": 9,
   "metadata": {},
   "outputs": [
    {
     "name": "stdout",
     "output_type": "stream",
     "text": [
      "[ {\n",
      "    x = 2.00,\n",
      "    y = 2.00,\n",
      "    z_1 = 3.00,\n",
      "    z_2 = 4.00,\n",
      "    z_3 = 5.00\n",
      "}, { x = 2.00, y = 42.00, z_1 = 3.00, z_3 = 5.00 } ]\n"
     ]
    }
   ],
   "source": [
    "data = lab.ListData([record, record2])\n",
    "print(data)"
   ]
  },
  {
   "cell_type": "code",
   "execution_count": 10,
   "metadata": {},
   "outputs": [],
   "source": [
    "record = data.where(y == 42).extract(lab.Record)"
   ]
  },
  {
   "cell_type": "code",
   "execution_count": 11,
   "metadata": {},
   "outputs": [
    {
     "name": "stdout",
     "output_type": "stream",
     "text": [
      "[\n",
      "    { I = 0.01, R = 2773.0 }\n",
      "    { I = 0.02, R = 4105.0 }\n",
      "    { I = 0.03, R = 5204.0 }\n",
      "    { I = 0.04, R = 6292.0 }\n",
      "    { I = 0.05, R = 7298.0 }\n",
      "    ...13 more records (18 total)\n",
      "]\n"
     ]
    }
   ],
   "source": [
    "# TOtzeit example\n",
    "\n",
    "I = lab.Var(\"I\", float)\n",
    "R = lab.Var(\"R\", float)\n",
    "\n",
    "totzeit = lab.load_data(\"totzeit.csv\", [I, R])\n",
    "print(totzeit)"
   ]
  },
  {
   "cell_type": "code",
   "execution_count": 12,
   "metadata": {},
   "outputs": [
    {
     "name": "stdout",
     "output_type": "stream",
     "text": [
      "[\n",
      "    { I = 0.01, R = 2773.0, U = 27.73 }\n",
      "    { I = 0.02, R = 4105.0, U = 82.10000000000001 }\n",
      "    { I = 0.03, R = 5204.0, U = 156.12 }\n",
      "    { I = 0.04, R = 6292.0, U = 251.68 }\n",
      "    { I = 0.05, R = 7298.0, U = 364.90000000000003 }\n",
      "    ...13 more records (18 total)\n",
      "]\n"
     ]
    }
   ],
   "source": [
    "U = lab.Computed(\"U\", [I, R], \"I * R\")\n",
    "totzeit.add(U)\n",
    "print(totzeit)"
   ]
  },
  {
   "cell_type": "code",
   "execution_count": null,
   "metadata": {},
   "outputs": [],
   "source": []
  }
 ],
 "metadata": {
  "kernelspec": {
   "display_name": "Python 3",
   "language": "python",
   "name": "python3"
  },
  "language_info": {
   "codemirror_mode": {
    "name": "ipython",
    "version": 3
   },
   "file_extension": ".py",
   "mimetype": "text/x-python",
   "name": "python",
   "nbconvert_exporter": "python",
   "pygments_lexer": "ipython3",
   "version": "3.11.0 (main, Oct 24 2022, 18:26:48) [MSC v.1933 64 bit (AMD64)]"
  },
  "orig_nbformat": 4,
  "vscode": {
   "interpreter": {
    "hash": "60046ffbd83e2c3226aa688c07a90e0b2db2ccbc92f599df08db67c0404662c7"
   }
  }
 },
 "nbformat": 4,
 "nbformat_minor": 2
}
