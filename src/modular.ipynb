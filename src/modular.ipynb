{
 "cells": [
  {
   "cell_type": "code",
   "execution_count": 48,
   "metadata": {},
   "outputs": [],
   "source": [
    "import textwrap\n",
    "from typing import Any, Callable, Generic, TypeVar, cast\n",
    "from typing_extensions import Self\n",
    "\n",
    "_T = TypeVar(\"_T\")\n",
    "\n",
    "class Module(Generic[_T]):\n",
    "    owner: _T\n",
    "\n",
    "    @classmethod\n",
    "    def create_for_owner(cls, owner: _T, *args, **kwargs) -> Self:\n",
    "        obj = cast(Self, cast(Callable, cls)(*args, **kwargs))\n",
    "        obj.owner = owner\n",
    "        return obj\n",
    "\n",
    "    def __repr__(self) -> str:\n",
    "        return f\"<{type(self).__name__} of {self.owner}>\"\n",
    "\n",
    "    def __str__(self) -> str:\n",
    "        return f\"{type(self).__name__} of {self.owner}\"\n",
    "\n",
    "    def __eq__(self, other: Any) -> bool:\n",
    "        return (\n",
    "            isinstance(other, type(self))\n",
    "            and self.owner == other.owner\n",
    "        )\n",
    "\n",
    "    def __hash__(self) -> int:\n",
    "        return hash((type(self), self.owner))\n",
    "\n",
    "\n",
    "_M = TypeVar(\"_M\", bound=Module)\n",
    "\n",
    "class ModuleEntry(Generic[_M]):\n",
    "    def __init__(self, module_class: type[_M], *args, **kwargs) -> None:\n",
    "        self.module_class = module_class\n",
    "        self.args = args\n",
    "        self.kwargs = kwargs\n",
    "\n",
    "    def create_for_owner(self, owner: Any):\n",
    "        return self.module_class.create_for_owner(owner, *self.args, **self.kwargs)\n",
    "\n",
    "class Modular:\n",
    "    __module_entries: list[ModuleEntry[Module[Self]]] = []\n",
    "    \n",
    "    __modules: list[Module[Self]]\n",
    "\n",
    "    def __init__(self) -> None:\n",
    "        self.__modules = []\n",
    "        for module_entry in self.__module_entries:\n",
    "            self.__modules.append(module_entry.create_for_owner(self))\n",
    "\n",
    "    @classmethod\n",
    "    def add_module_class(cls, module_class: type[Module[Self]], *args, **kwargs):\n",
    "        if cls.has_module_class(module_class):\n",
    "            raise ValueError(f\"{module_class.__name__} already added.\")\n",
    "\n",
    "        cls.__module_entries.append(ModuleEntry(module_class, *args, **kwargs))\n",
    "\n",
    "    @classmethod\n",
    "    @property\n",
    "    def module_entries(cls):\n",
    "        return tuple(cls.__module_entries)\n",
    "\n",
    "    @classmethod\n",
    "    def has_module_class(cls, module_class: type):\n",
    "        for entry in cls.__module_entries:\n",
    "            if entry.module_class == module_class:\n",
    "                return True\n",
    "        return False\n",
    "\n",
    "    def module(self, module_class: type[_M]) -> _M:\n",
    "        for module in self.__modules:\n",
    "            if isinstance(module, module_class):\n",
    "                return module\n",
    "\n",
    "        if type(self).has_module_class(module_class):\n",
    "            raise ValueError(f\"Module class {module_class.__name__} was added after object was instantiated.\")\n",
    "\n",
    "        raise ValueError(f\"{type(self).__name__} does not have module {module_class}.\")\n",
    "\n",
    "    def __rmatmul__(self, other: type[_M]) -> _M:\n",
    "        return self.module(other)"
   ]
  },
  {
   "cell_type": "code",
   "execution_count": 49,
   "metadata": {},
   "outputs": [],
   "source": [
    "class LabelModule(Module):\n",
    "    \"\"\"A module which provides a label.\"\"\"\n",
    "\n",
    "    label: str\n",
    "\n",
    "    def __init__(self, label: str) -> None:\n",
    "        self.label = label\n",
    "\n",
    "    def __str__(self) -> str:\n",
    "        return self.label"
   ]
  },
  {
   "cell_type": "code",
   "execution_count": 50,
   "metadata": {},
   "outputs": [],
   "source": [
    "class Foo(Modular):\n",
    "    def __str__(self) -> str:\n",
    "        return \"Foo\"\n",
    "\n",
    "Foo.add_module_class(LabelModule)"
   ]
  },
  {
   "cell_type": "code",
   "execution_count": 51,
   "metadata": {},
   "outputs": [
    {
     "ename": "TypeError",
     "evalue": "__init__() missing 1 required positional argument: 'label'",
     "output_type": "error",
     "traceback": [
      "\u001b[1;31m---------------------------------------------------------------------------\u001b[0m",
      "\u001b[1;31mTypeError\u001b[0m                                 Traceback (most recent call last)",
      "\u001b[1;32m~\\AppData\\Local\\Temp/ipykernel_29680/2128560560.py\u001b[0m in \u001b[0;36m<module>\u001b[1;34m\u001b[0m\n\u001b[1;32m----> 1\u001b[1;33m \u001b[0mfoo\u001b[0m \u001b[1;33m=\u001b[0m \u001b[0mFoo\u001b[0m\u001b[1;33m(\u001b[0m\u001b[1;33m)\u001b[0m\u001b[1;33m\u001b[0m\u001b[1;33m\u001b[0m\u001b[0m\n\u001b[0m\u001b[0;32m      2\u001b[0m \u001b[0mprint\u001b[0m\u001b[1;33m(\u001b[0m\u001b[1;33m(\u001b[0m\u001b[0mLabelModule\u001b[0m \u001b[1;33m@\u001b[0m \u001b[0mfoo\u001b[0m\u001b[1;33m)\u001b[0m\u001b[1;33m.\u001b[0m\u001b[0mlabel\u001b[0m\u001b[1;33m)\u001b[0m\u001b[1;33m\u001b[0m\u001b[1;33m\u001b[0m\u001b[0m\n",
      "\u001b[1;32m~\\AppData\\Local\\Temp/ipykernel_29680/3638503183.py\u001b[0m in \u001b[0;36m__init__\u001b[1;34m(self)\u001b[0m\n\u001b[0;32m     49\u001b[0m         \u001b[0mself\u001b[0m\u001b[1;33m.\u001b[0m\u001b[0m__modules\u001b[0m \u001b[1;33m=\u001b[0m \u001b[1;33m[\u001b[0m\u001b[1;33m]\u001b[0m\u001b[1;33m\u001b[0m\u001b[1;33m\u001b[0m\u001b[0m\n\u001b[0;32m     50\u001b[0m         \u001b[1;32mfor\u001b[0m \u001b[0mmodule_entry\u001b[0m \u001b[1;32min\u001b[0m \u001b[0mself\u001b[0m\u001b[1;33m.\u001b[0m\u001b[0m__module_entries\u001b[0m\u001b[1;33m:\u001b[0m\u001b[1;33m\u001b[0m\u001b[1;33m\u001b[0m\u001b[0m\n\u001b[1;32m---> 51\u001b[1;33m             \u001b[0mself\u001b[0m\u001b[1;33m.\u001b[0m\u001b[0m__modules\u001b[0m\u001b[1;33m.\u001b[0m\u001b[0mappend\u001b[0m\u001b[1;33m(\u001b[0m\u001b[0mmodule_entry\u001b[0m\u001b[1;33m.\u001b[0m\u001b[0mcreate_for_owner\u001b[0m\u001b[1;33m(\u001b[0m\u001b[0mself\u001b[0m\u001b[1;33m)\u001b[0m\u001b[1;33m)\u001b[0m\u001b[1;33m\u001b[0m\u001b[1;33m\u001b[0m\u001b[0m\n\u001b[0m\u001b[0;32m     52\u001b[0m \u001b[1;33m\u001b[0m\u001b[0m\n\u001b[0;32m     53\u001b[0m     \u001b[1;33m@\u001b[0m\u001b[0mclassmethod\u001b[0m\u001b[1;33m\u001b[0m\u001b[1;33m\u001b[0m\u001b[0m\n",
      "\u001b[1;32m~\\AppData\\Local\\Temp/ipykernel_29680/3638503183.py\u001b[0m in \u001b[0;36mcreate_for_owner\u001b[1;34m(self, owner)\u001b[0m\n\u001b[0;32m     39\u001b[0m \u001b[1;33m\u001b[0m\u001b[0m\n\u001b[0;32m     40\u001b[0m     \u001b[1;32mdef\u001b[0m \u001b[0mcreate_for_owner\u001b[0m\u001b[1;33m(\u001b[0m\u001b[0mself\u001b[0m\u001b[1;33m,\u001b[0m \u001b[0mowner\u001b[0m\u001b[1;33m:\u001b[0m \u001b[0mAny\u001b[0m\u001b[1;33m)\u001b[0m\u001b[1;33m:\u001b[0m\u001b[1;33m\u001b[0m\u001b[1;33m\u001b[0m\u001b[0m\n\u001b[1;32m---> 41\u001b[1;33m         \u001b[1;32mreturn\u001b[0m \u001b[0mself\u001b[0m\u001b[1;33m.\u001b[0m\u001b[0mmodule_class\u001b[0m\u001b[1;33m.\u001b[0m\u001b[0mcreate_for_owner\u001b[0m\u001b[1;33m(\u001b[0m\u001b[0mowner\u001b[0m\u001b[1;33m,\u001b[0m \u001b[1;33m*\u001b[0m\u001b[0mself\u001b[0m\u001b[1;33m.\u001b[0m\u001b[0margs\u001b[0m\u001b[1;33m,\u001b[0m \u001b[1;33m**\u001b[0m\u001b[0mself\u001b[0m\u001b[1;33m.\u001b[0m\u001b[0mkwargs\u001b[0m\u001b[1;33m)\u001b[0m\u001b[1;33m\u001b[0m\u001b[1;33m\u001b[0m\u001b[0m\n\u001b[0m\u001b[0;32m     42\u001b[0m \u001b[1;33m\u001b[0m\u001b[0m\n\u001b[0;32m     43\u001b[0m \u001b[1;32mclass\u001b[0m \u001b[0mModular\u001b[0m\u001b[1;33m:\u001b[0m\u001b[1;33m\u001b[0m\u001b[1;33m\u001b[0m\u001b[0m\n",
      "\u001b[1;32m~\\AppData\\Local\\Temp/ipykernel_29680/3638503183.py\u001b[0m in \u001b[0;36mcreate_for_owner\u001b[1;34m(cls, owner, *args, **kwargs)\u001b[0m\n\u001b[0;32m     10\u001b[0m     \u001b[1;33m@\u001b[0m\u001b[0mclassmethod\u001b[0m\u001b[1;33m\u001b[0m\u001b[1;33m\u001b[0m\u001b[0m\n\u001b[0;32m     11\u001b[0m     \u001b[1;32mdef\u001b[0m \u001b[0mcreate_for_owner\u001b[0m\u001b[1;33m(\u001b[0m\u001b[0mcls\u001b[0m\u001b[1;33m,\u001b[0m \u001b[0mowner\u001b[0m\u001b[1;33m:\u001b[0m \u001b[0m_T\u001b[0m\u001b[1;33m,\u001b[0m \u001b[1;33m*\u001b[0m\u001b[0margs\u001b[0m\u001b[1;33m,\u001b[0m \u001b[1;33m**\u001b[0m\u001b[0mkwargs\u001b[0m\u001b[1;33m)\u001b[0m \u001b[1;33m->\u001b[0m \u001b[0mSelf\u001b[0m\u001b[1;33m:\u001b[0m\u001b[1;33m\u001b[0m\u001b[1;33m\u001b[0m\u001b[0m\n\u001b[1;32m---> 12\u001b[1;33m         \u001b[0mobj\u001b[0m \u001b[1;33m=\u001b[0m \u001b[0mcast\u001b[0m\u001b[1;33m(\u001b[0m\u001b[0mSelf\u001b[0m\u001b[1;33m,\u001b[0m \u001b[0mcast\u001b[0m\u001b[1;33m(\u001b[0m\u001b[0mCallable\u001b[0m\u001b[1;33m,\u001b[0m \u001b[0mcls\u001b[0m\u001b[1;33m)\u001b[0m\u001b[1;33m(\u001b[0m\u001b[1;33m*\u001b[0m\u001b[0margs\u001b[0m\u001b[1;33m,\u001b[0m \u001b[1;33m**\u001b[0m\u001b[0mkwargs\u001b[0m\u001b[1;33m)\u001b[0m\u001b[1;33m)\u001b[0m\u001b[1;33m\u001b[0m\u001b[1;33m\u001b[0m\u001b[0m\n\u001b[0m\u001b[0;32m     13\u001b[0m         \u001b[0mobj\u001b[0m\u001b[1;33m.\u001b[0m\u001b[0mowner\u001b[0m \u001b[1;33m=\u001b[0m \u001b[0mowner\u001b[0m\u001b[1;33m\u001b[0m\u001b[1;33m\u001b[0m\u001b[0m\n\u001b[0;32m     14\u001b[0m         \u001b[1;32mreturn\u001b[0m \u001b[0mobj\u001b[0m\u001b[1;33m\u001b[0m\u001b[1;33m\u001b[0m\u001b[0m\n",
      "\u001b[1;31mTypeError\u001b[0m: __init__() missing 1 required positional argument: 'label'"
     ]
    }
   ],
   "source": [
    "foo = Foo()\n",
    "print(foo.module(LabelModule).label)"
   ]
  },
  {
   "cell_type": "code",
   "execution_count": null,
   "metadata": {},
   "outputs": [],
   "source": []
  }
 ],
 "metadata": {
  "kernelspec": {
   "display_name": "Python 3.9.7 64-bit",
   "language": "python",
   "name": "python3"
  },
  "language_info": {
   "codemirror_mode": {
    "name": "ipython",
    "version": 3
   },
   "file_extension": ".py",
   "mimetype": "text/x-python",
   "name": "python",
   "nbconvert_exporter": "python",
   "pygments_lexer": "ipython3",
   "version": "3.9.7"
  },
  "orig_nbformat": 4,
  "vscode": {
   "interpreter": {
    "hash": "55923a6ed19f62c923f4f9446379b87364bb44c28ea18797870eef05a25fc661"
   }
  }
 },
 "nbformat": 4,
 "nbformat_minor": 2
}
